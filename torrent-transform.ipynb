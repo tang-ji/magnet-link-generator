{
 "cells": [
  {
   "cell_type": "code",
   "execution_count": 2,
   "metadata": {},
   "outputs": [],
   "source": [
    "import bencoding, hashlib"
   ]
  },
  {
   "cell_type": "code",
   "execution_count": null,
   "metadata": {},
   "outputs": [],
   "source": [
    "objTorrentFile = open(\"file/*.torrent\", \"rb\").read()\n",
    "decodedDict = bencoding.bdecode(objTorrentFile)\n",
    "\n",
    "info_hash = hashlib.sha1(bencoding.bencode(decodedDict[b\"info\"])).hexdigest()\n",
    "print(\"magnet:?xt=urn:btih:{}\".format(info_hash))"
   ]
  }
 ],
 "metadata": {
  "kernelspec": {
   "display_name": "Python 3",
   "language": "python",
   "name": "python3"
  },
  "language_info": {
   "codemirror_mode": {
    "name": "ipython",
    "version": 3
   },
   "file_extension": ".py",
   "mimetype": "text/x-python",
   "name": "python",
   "nbconvert_exporter": "python",
   "pygments_lexer": "ipython3",
   "version": "3.7.7"
  }
 },
 "nbformat": 4,
 "nbformat_minor": 4
}
